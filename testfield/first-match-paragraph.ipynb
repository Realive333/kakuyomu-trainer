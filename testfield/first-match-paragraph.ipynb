{
 "cells": [
  {
   "cell_type": "code",
   "execution_count": 7,
   "id": "32886be9-3392-495d-a87c-11442ecfd242",
   "metadata": {},
   "outputs": [
    {
     "data": {
      "text/plain": [
       "9223372036854775807"
      ]
     },
     "execution_count": 7,
     "metadata": {},
     "output_type": "execute_result"
    }
   ],
   "source": [
    "import workFactory\n",
    "import csv\n",
    "import sys\n",
    "import re\n",
    "import os\n",
    "import pandas as pd\n",
    "\n",
    "from tqdm import tqdm\n",
    "from random import randint\n",
    "from argparse import ArgumentParser\n",
    "from sklearn.model_selection import train_test_split\n",
    "\n",
    "csv.field_size_limit(sys.maxsize)"
   ]
  },
  {
   "cell_type": "code",
   "execution_count": 2,
   "id": "53d9fe31-840d-4315-a8a5-d837864f6e1b",
   "metadata": {},
   "outputs": [],
   "source": [
    "def write_df_to_tsv(path, dataframe, WORK_DIR):\n",
    "    try:\n",
    "        os.makedirs(WORK_DIR)\n",
    "    except FileExistsError:\n",
    "        print(\"folder exist\")\n",
    "        \n",
    "    with open(path, 'w+', encoding='utf-8') as writer:\n",
    "        tsv_writer = csv.writer(writer, delimiter='\\t')\n",
    "        for i, row in tqdm(dataframe.iterrows()):\n",
    "            tsv_writer.writerow([row['label'], row['content']])"
   ]
  },
  {
   "cell_type": "code",
   "execution_count": 26,
   "id": "8af46e6b-0d7d-4e48-ae47-23caae038e56",
   "metadata": {},
   "outputs": [],
   "source": [
    "def findFirstMatchParagraph(work, label, pos, neg):\n",
    "    labels = workFactory.load_tsv_label('./numeric_label.tsv')\n",
    "    match_list = labels[int(label)-1]['name']\n",
    "    sep = re.split(\"。\", work['content'])\n",
    "    posit = -1\n",
    "    conb = ''\n",
    "    for i, sen in enumerate(sep):\n",
    "        for match_word in match_list:\n",
    "            if match_word in sen:\n",
    "                posit = i\n",
    "                break\n",
    "    if posit > 0:\n",
    "        cnt = 1\n",
    "        while 1:\n",
    "            conb = '。'.join(sep[posit-cnt:posit+cnt])\n",
    "            if len(conb) > 512:\n",
    "                break\n",
    "            cnt += 1\n",
    "        if work['label'] == 0:\n",
    "            label = '01'\n",
    "            neg += 1\n",
    "        else:\n",
    "            label = '10'\n",
    "            pos += 1\n",
    "    else:\n",
    "        conb = '。'.join(sep[:100])\n",
    "        conb = conb[:512]\n",
    "        if work['label'] == 0:\n",
    "            label = '01'\n",
    "        else:\n",
    "            label = '10'\n",
    "    \n",
    "    \n",
    "    return {\"label\": label, \"content\": conb}, pos, neg"
   ]
  },
  {
   "cell_type": "code",
   "execution_count": 5,
   "id": "975a079c-a762-436f-926e-1daee21b330a",
   "metadata": {},
   "outputs": [],
   "source": [
    "DATASET = 'full'\n",
    "LABEL = '42'\n",
    "LABEL_PATH = './numeric_label.tsv'\n",
    "PATH = f'./tsv/{DATASET}/{LABEL}'\n",
    "WORK_DIR = f'./tsv/first-match/{LABEL}'"
   ]
  },
  {
   "cell_type": "code",
   "execution_count": 8,
   "id": "3870e67c-2fa9-4515-bede-128d7c570d6b",
   "metadata": {},
   "outputs": [],
   "source": [
    "fp_works = []\n",
    "pos_match_count = 0\n",
    "neg_match_count = 0\n",
    "\n",
    "train = workFactory.load_tsv_dataset(f'{PATH}/train.tsv')\n",
    "valid = workFactory.load_tsv_dataset(f'{PATH}/dev.tsv')\n",
    "test = workFactory.load_tsv_dataset(f'{PATH}/test.tsv')\n",
    "works = train + valid + test"
   ]
  },
  {
   "cell_type": "code",
   "execution_count": 9,
   "id": "b4772359-4f10-4227-97e5-90ef5739edac",
   "metadata": {},
   "outputs": [],
   "source": [
    "del(train)\n",
    "del(valid)\n",
    "del(test)"
   ]
  },
  {
   "cell_type": "code",
   "execution_count": 27,
   "id": "620fe397-17e1-4937-8f7a-7e61a1e0256d",
   "metadata": {},
   "outputs": [
    {
     "name": "stdout",
     "output_type": "stream",
     "text": [
      "{'label': '10', 'content': '一言でいうならアイツは不死身なんだよ」『ふ、不死身！？』相当驚いたのか、電話越しのソフィアの声が大きくなった。思わず顔を背けた雫はスマホを落としてしまう。「急に大声出さないでよソフィアさん……。このスマホ、変えたばかりなんだからさ」『す、すいません……。えっ、でも不死身って……。黒川君と同じなんですか？』「いや、オレのは神機によるものだけどアイツのはなんていうか……。体質？みたいな」『体質……ですか？』「もう今日はこれ以上詳しい説明する気はないけど、『異能精霊』っていう精霊がいるんだよ。なんていうか普通にはありえない、妙な力を持った精霊が」『はあ……』電話の向こうの声は理解できていないようなトーンだった。「その能力でアイツの身体は不死身で出来てる。オレの心臓神機みたいに時間の決まりが無い、いくらでも再生出来る身体でね」『それって……。無敵なんじゃないですか！？』「そうだよ。だからこっちが疲れるだけだから相手にしたくないんだよね」雫は慣れた手つきでコントローラーをカチャカチャと操作しながら会話をしている。『……復活するときっていつもあんなに苦しそうなんですか？』一拍置いてソフィアがそう訊ねてきた。「いや、普段はケロっとした様子ですぐに元通りになるんだけどね。確かに今日は様子がおかしかったなぁ」『そう、なんですか……。……あの、黒川君』「どしたの？」『私、テトラさんとお友達になったんですかね？』「なんでオレに聞くのさ……」『だ、だって……'}\n",
      "{'label': '01', 'content': 'そしてアイテムを売り払ってひと財産築き上げたら……いつか親父やお袋にもっと贅沢させてやるわ｣彼がそう宣言すると、仲間の二人がヒューヒューと口笛を吹いたり、手を叩いたりしながら喝采を上げた。｢マルティンだけじゃ頼りないですからね。天才魔導士であるこのアヤ・ブリュネ様がお供してあげます！｣｢よっしゃ、そんじゃあこのオレ、ブライアン・パウエルも力を貸してやるぜ！｣｢いらねーよお前らなんて……鬱陶しいんだよ……｣｢馬鹿野郎、本当は嬉しいくせによ！｣｢素直じゃない人は嫌いですよ！｣笑い合いながら互いを小突き合う三人。(うん、この三人なら……心配ないかも)東邦帝国のユキムラにプロポーズして彼との間に子供をもうけたミリアム。その娘のアヤはミリアムの高飛車で底抜けにポジティブな性格を受け継いでいるものの、ユキムラの冷静沈着で頭脳明晰なところもしっかりと受け継いでおり、16歳の若さにして既にAランク冒険者。能力面も申し分ない頼りになる魔導士だ。気が合うのかウーリと所帯を持ったリアは、人間とアマゾネスのハーフの男の子を出産した。それがブライアン。彼の圧倒的フィジカルの強さと、ムードメーカー的な明るさはきっと冒険には欠かせないものになるだろう。──そして'}\n",
      "{'label': '01', 'content': '俺は制服をドロドロに汚し、水を滴らせながら帰り道を小走りに急いでいた。学校帰り、通りかかった川沿いでかすかに聞こえた気がした猫の泣き声が切っ掛けだ。もしかして……そんな嫌な予感が的中し、少し捜したところで段ボール箱に入ったまま辛うじて何かに引っかかっているだけの、今にも流されてしまいそうな子猫を見つけた。持っていたカバンを置いてざぶざぶと川の中へ入り、流されてしまわないように少し下流から子猫に近付く。すぐそこだし浅いだろうと思った水深は意外と深く、足を取られたりはしたが何とか子猫を救いあげることに成功したのだった。その子猫は今、たまたま体育があって持ってきていたタオルに包まれ俺の腕の中で大人しくしている。救いあげるまでは鳴いていたけれど、やっぱり衰弱してしまっているんだろうか……そんな思いが自然と足を速めていた。――――家に着き、そのままお風呂場まで直行する。今は１０月、気温はそこまで低くは無いがさすがに濡れたままでは風邪をひきかねない。湯船に湯を張りながら手早く制服を脱ぎ去り、足元で震えていた子猫を抱えてお風呂場へ入った。シャワーで自分の身体を流しつつ、子猫を一緒に洗ってやると流れるお湯が真っ黒になる……ど'}\n",
      "{'label': '10', 'content': '肉体単位での細胞分裂。それがぼく――私の異能。背中の致命傷が、私を殺す手順を教えてくれる。柳葉包丁を刺した瞬間、私とぼくはまだ完全には分かれていなかった。分かれてしまうと記憶がなくなってしまい、自分に殺されることができなくなるからだろう。体が複製されている最中に包丁を浅く刺し、複製が完了し、分裂しきる最後の一瞬に包丁を勢いよく押し出す。死体はこと切れたまま倒れ込み、顔面を損傷する。ぼくは記憶喪失となって、現場を発見する。経緯はこんな所か。。これがぼくの真相。メッセージを残していないのは、証拠を恐れたからだろう。この異能は決して、誰にも気付かれてはいけない。なにより、一目見れば説明など不要なのだから。「ふつ、ふつ、ふつ」奇妙なわらいが、胃の奥底からわきあがる。ぼくは部屋のなかから、気に入った服をみつくろい、解体された死骸の隣でリップを塗る。鏡に映してまつ毛を整え、眉毛をかく。髪を巻いて、うっすらチーク。この年頃の肌にファンデーションは不要な雑味。いつもと違う雰囲気の顔になるように目元を際立たせる。最後に、女子々々して女くさい甘ったるい香水をうなじと手首にひとふりずつ。女は化ける。メイクの印象で簡単にぼくが私に、私がぼくに。遺品から抜き取った現金をハンドバックに詰める'}\n",
      "{'label': '01', 'content': '「わーわーわー。先生、先生！人がいっぱいだよ！これ、みんな、ライトノベル作家さんやイラストレーター、関係者さんなの！？はっ！あ、あれってビンゴの景品？？料理も豪華～。あ、ローストビーフ……お寿司も、ケーキもある！――これは、慎重に攻略しないと！」「ええぃ、はしゃぐでないっ、さくら君！第一……君、結構なお嬢様だろうが？ローストビーフも寿司も、散々食べ慣れているだろうに」都内某有名ホテル大宴会場。先生に連れられ、一年に一度の新年会へやって来た私は、振り返り唇を尖らせた。普段のラフな格好と異なり、滅多に見ないスーツ姿だ。……不覚にもカッコいい、と思ってしまう。なお、私も普段はまず着ないシックで大人っぽいドレス姿だ。この日の為だけに仕立てたとは、絶対に先生へ言うつもりはない。……というか、髪型も美容院に行って整えてもらったのにさっさと気付け、この鈍感作家！誤魔化しがてら、肩を竦める。「はぁ……分かってないなぁ～先生は。ビュッフェ形式は楽しむことで、美味しさが倍増するんですぅ～。あ、だから、現代物が書けないのかも？」「うぐっ！まったく……まぁ、いい。行くとしよう」先生は大袈裟な仕草で胸を押さえ、歩き始めた。私もその後を'}\n"
     ]
    }
   ],
   "source": [
    "for work in works[:5]:\n",
    "        par, pos_match_count, neg_match_count = findFirstMatchParagraph(work, LABEL, pos_match_count, neg_match_count)\n",
    "        print(par)\n",
    "        fp_works.append(par)"
   ]
  },
  {
   "cell_type": "code",
   "execution_count": 26,
   "id": "eaee9297-d2ab-4d71-bb37-3926ce832a3c",
   "metadata": {},
   "outputs": [],
   "source": [
    "fp_works = []\n",
    "for work in tqdm(pos_works):\n",
    "    par = findFirstMatchParagraph(work)\n",
    "    if len(par)!=0:\n",
    "        #print(par)\n",
    "        fp_works.append(par)"
   ]
  },
  {
   "cell_type": "code",
   "execution_count": 44,
   "id": "f9af0644-fc59-455d-9f31-12480f5c26cb",
   "metadata": {},
   "outputs": [],
   "source": [
    "final_works = []\n",
    "fp_length = len(fp_works)\n",
    "for work in fp_works:\n",
    "    dat = {\"label\": \"10\", \"content\": work}\n",
    "    final_works.append(dat)\n",
    "    \n",
    "neg_works = neg_works[:fp_length]\n",
    "for work in neg_works:\n",
    "    cnt = work['content']\n",
    "    if len(cnt)<512:\n",
    "        dat = {\"label\": \"01\", \"content\": cnt}\n",
    "    else:\n",
    "        rnd = randint(0, len(cnt)-512)\n",
    "        dat = {\"label\": \"01\", \"content\": cnt[rnd:rnd+512]}\n",
    "    final_works.append(dat)"
   ]
  },
  {
   "cell_type": "code",
   "execution_count": 45,
   "id": "fdcc9243-f199-4dee-9293-83c4737cc159",
   "metadata": {},
   "outputs": [
    {
     "name": "stdout",
     "output_type": "stream",
     "text": [
      "3402\n",
      "{'label': '10', 'content': '「成る程な......と言うことは裏を返せば暴走した時に複数人で対処が必要な程の能力って事だな？「大正解貴方もああなりたくなかったら何かしら策を講じなさい  幻坂はフィールドを指差すそこには獅子頭の大男に胴体を片手で掴まれ、今にも食べられそうになっている祈祷先輩の姿があったよく見れば白目を剥いて失神しており、ジャッジが入っていた「......肝に命じておくよ  あまりにも規格外過ぎる相手を前に、思索することすら無駄なのではないか......そんな思いを抱えながら頭を巡らせるのであった'}\n",
      "{'label': '01', 'content': 'を見ることはないのだから。警戒するのも無理はない。「この方は、アマゾネスのリアさんです。その背中に背負われているのは先輩魔導士のミリアム先輩。二人とも私の仲間です」「──仲間ね……」サヤは警戒を解こうとしない。動いたのはリアだった。彼女はミリアムをゆっくりと床に下ろすと、サヤの前に進み出る。「あなたがティナの知り合いで七天のサヤって人？」「……そうだけど？」返答を聞いたリアはうんうんと頷くと腰をかがめてニヤリと笑った。刹那、リアがまとう雰囲気がガラリと変わった。「──やっと見つけた！」(これは……殺気!? でもどうして!?)「危ないっ──!?」私が警告するよりも早く──サヤが反応するよりも早く、リアが目にも止まらぬ速さで前方に飛び出す。右手にはナイフが握られており、それが真っすぐにサヤの胸元に吸い込まれていく。──ドッ！衝撃をともなった鈍い音が響く。と同時に真っ赤な血しぶきが舞った。「えっ……？」私は目の前で起こったことが信じられなかった。リアの腕は手首くらいまでサヤの体内に埋まっており、サヤの背中からはナイフの先端が飛び出している。傷口からは絶え間なく血が吹き出し、たちまち二人の足元に赤い水たまりを形成した'}\n"
     ]
    }
   ],
   "source": [
    "print(len(final_works))\n",
    "print(final_works[1700])\n",
    "print(final_works[1701])"
   ]
  },
  {
   "cell_type": "code",
   "execution_count": 48,
   "id": "b5aaabbb-5b3b-4c6c-9734-a0a05bbce40b",
   "metadata": {},
   "outputs": [
    {
     "name": "stdout",
     "output_type": "stream",
     "text": [
      "Train: 2721 / Valid: 340 / Test: 341\n"
     ]
    }
   ],
   "source": [
    "final_df = pd.DataFrame(final_works)\n",
    "train, valid_test = train_test_split(final_df, test_size=0.2)\n",
    "valid, test = train_test_split(valid_test, test_size=0.5)\n",
    "\n",
    "print(f'Train: {len(train)} / Valid: {len(valid)} / Test: {len(test)}')\n",
    "\n",
    "del(final_df)\n",
    "del(valid_test)"
   ]
  },
  {
   "cell_type": "code",
   "execution_count": 53,
   "id": "727529ee-3f64-4025-95ea-bbb5fc5a9d74",
   "metadata": {},
   "outputs": [
    {
     "name": "stderr",
     "output_type": "stream",
     "text": [
      "2721it [00:00, 19285.57it/s]\n"
     ]
    },
    {
     "name": "stdout",
     "output_type": "stream",
     "text": [
      "folder exist\n"
     ]
    },
    {
     "name": "stderr",
     "output_type": "stream",
     "text": [
      "340it [00:00, 18649.64it/s]\n"
     ]
    },
    {
     "name": "stdout",
     "output_type": "stream",
     "text": [
      "folder exist\n"
     ]
    },
    {
     "name": "stderr",
     "output_type": "stream",
     "text": [
      "341it [00:00, 19121.86it/s]\n"
     ]
    }
   ],
   "source": [
    "write_df_to_tsv(f'{WORK_DIR}/train.tsv', train, WORK_DIR)\n",
    "write_df_to_tsv(f'{WORK_DIR}/dev.tsv', valid, WORK_DIR)\n",
    "write_df_to_tsv(f'{WORK_DIR}/test.tsv', test, WORK_DIR)"
   ]
  }
 ],
 "metadata": {
  "kernelspec": {
   "display_name": "Python 3 (ipykernel)",
   "language": "python",
   "name": "python3"
  },
  "language_info": {
   "codemirror_mode": {
    "name": "ipython",
    "version": 3
   },
   "file_extension": ".py",
   "mimetype": "text/x-python",
   "name": "python",
   "nbconvert_exporter": "python",
   "pygments_lexer": "ipython3",
   "version": "3.9.12"
  }
 },
 "nbformat": 4,
 "nbformat_minor": 5
}
