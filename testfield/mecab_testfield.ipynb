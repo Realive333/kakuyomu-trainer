{
 "cells": [
  {
   "cell_type": "code",
   "execution_count": 51,
   "id": "bdb5ac9c-6fd0-4149-9bfd-5c939589d18c",
   "metadata": {},
   "outputs": [],
   "source": [
    "import os\n",
    "import itertools\n",
    "import MeCab\n",
    "import pandas as pd\n",
    "import csv\n",
    "\n",
    "import work\n",
    "\n",
    "from tqdm import tqdm\n",
    "from collections import defaultdict\n",
    "from collections import OrderedDict"
   ]
  },
  {
   "cell_type": "code",
   "execution_count": 2,
   "id": "22ac1278-63e1-4a70-8dbc-dbee39ac4eeb",
   "metadata": {},
   "outputs": [
    {
     "name": "stdout",
     "output_type": "stream",
     "text": [
      "num. of train: 2963\n",
      "num. of valid: 370\n",
      "num. of test : 371\n",
      "num. of all  : 3704\n"
     ]
    }
   ],
   "source": [
    "path = './tsv/front-512/42'\n",
    "\n",
    "train = work.load_tsv_dataset(f'{path}/train.tsv')\n",
    "valid = work.load_tsv_dataset(f'{path}/dev.tsv')\n",
    "test = work.load_tsv_dataset(f'{path}/test.tsv')\n",
    "works = train + valid + test\n",
    "\n",
    "print(f'num. of train: {len(train)}')\n",
    "print(f'num. of valid: {len(valid)}')\n",
    "print(f'num. of test : {len(test)}')\n",
    "print(f'num. of all  : {len(works)}')"
   ]
  },
  {
   "cell_type": "code",
   "execution_count": 3,
   "id": "89d184b8-ad63-4847-9cc5-ef0c63c45c47",
   "metadata": {},
   "outputs": [],
   "source": [
    "del(train)\n",
    "del(valid)\n",
    "del(test)"
   ]
  },
  {
   "cell_type": "code",
   "execution_count": 3,
   "id": "ef8fed6e-875c-4f98-bddd-ec42b6e98f4d",
   "metadata": {},
   "outputs": [
    {
     "name": "stdout",
     "output_type": "stream",
     "text": [
      "0\n",
      "0\n"
     ]
    }
   ],
   "source": [
    "for work in works[:10]:\n",
    "    if work['label'] == 0:\n",
    "        print(work['label'])"
   ]
  },
  {
   "cell_type": "code",
   "execution_count": 4,
   "id": "7f76e9ff-6984-4f73-b265-fd34b1e554ed",
   "metadata": {},
   "outputs": [],
   "source": [
    "pos_works = [work for work in works if not work['label']==0]"
   ]
  },
  {
   "cell_type": "code",
   "execution_count": 5,
   "id": "b1614655-edbd-47dd-a07b-a8f849bdd167",
   "metadata": {},
   "outputs": [],
   "source": [
    "for work in pos_works[:50]:\n",
    "    if work['label'] == 0:\n",
    "        print(work['label'])"
   ]
  },
  {
   "cell_type": "code",
   "execution_count": 6,
   "id": "ba7b4f3c-6f6e-44f4-9be5-0e7341af6a27",
   "metadata": {},
   "outputs": [
    {
     "name": "stdout",
     "output_type": "stream",
     "text": [
      "1852\n"
     ]
    }
   ],
   "source": [
    "print(len(pos_works))"
   ]
  },
  {
   "cell_type": "code",
   "execution_count": 7,
   "id": "6a6f87a4-52c1-42bb-9a56-9a8c853a03a4",
   "metadata": {},
   "outputs": [
    {
     "name": "stdout",
     "output_type": "stream",
     "text": [
      "[{'label': 1, 'content': '赤き月が照らす夜、『鉄血』の真祖であるフリーダは静かに月を眺めていた。彼女は自分の人生に飽き飽きしていた。真祖として至上の力を持つ彼女は、一度として命の危険を感じたこともなかったし、欲しいものは力をふるえばすぐ手に入った。彼女は常に──『退屈』していたのだ。「──フリーダ様！」そんな折、唯一の眷族である『エルマ』が羽を広げて飛んできた。強い力を持つ彼女は配下も小間使いの一人だけで十分だった。「何用だ？私は今、月を眺めて退屈な時間を紛らわしているところだ。何百何千年と変わらぬ日々。私は何のために生まれてきたのかと常に考えさせられる」「それはもちろんこの世界の『支配』者とし「早く要件を言え」フリーダにきつく言われ、エルマはすごすごと持ってきたものを差し出す。「支配のことなんぞネロに任せておけ……ん？」それはゆりかごに包まれた赤ん坊だった。白い髪に白い肌。目は鮮血のように赤い。「……『忌血』の子供か」「はい、人間たちは忌血は災いや良くないものを引き寄せるとして忌み嫌っているそうで、この捨て子が、近くを流れている川の沿岸に漂着していました。おやつにどうかなって、忌血の血はものすっごく美味しいんですよ！」フ１４歳の少年'}, {'label': 1, 'content': 'この世界に転生してからずっと待ち望んでいた非科学的存在。それは深夜、妹の部屋に現れた。俺の存在に気付かず、ベッドの上の妹に声をかけている。水色の熊のぬいぐるみ。生き物には見えないし、正気ならそんな物が喋って動いていたら寝惚けていると思うだろう。俺はぬいぐるみに向かって走り出し。「僕と契約して魔法少女に、、、」「ダメに決まってんだろー！！！」そいつを踏み潰した。「兄さん！！？」★いい歳したおっさんが自分の部屋で1人、ゲームをプレイしている。夜が明けて日が昇り始めても、手を止めることなくずっとだ。ボサボサに伸びきった髪が目にかかって見えにくいが、気にしない。切るのも面倒くさいしな。服は上下スウェットのまま、もう何日着替えていないのか覚えていない。誰かが、扉をノックする音が聞こえる。「、、、」ゲームをプレイする手を止めずに、チラりと時計を見る。時計の針は午前10時を指していた。この時間に俺の部屋をノックする人はこの家に1人しかいない。扉越しに声が聞こえてくる。「お母さん、、、少し買い物に行ってくるから」予想と違わず、聞こえてきたのは母親の声だった。自分にそう声を掛ける母親の言葉に返事をすることなく、部屋にはゲームの'}, {'label': 1, 'content': '「ハンス。今日限りでお前は『追放』だ」冒険者ギルド内の端に設置して有る待合スペース。そこのソファーに座る勇者マルケスが、彼の目の前で直立している、荷物持ちのハンスへと、そう宣言した。「え？」突如として勇者マルケスに言い渡されたハンスは、驚きを隠せず首を傾げている様子だ。「自分でも分かってたと思ってたんだが、とことん脳無しのゴミ虫なことだ。ハンス、うちのパーティには、お前のような荷物持ちしか出来ない奴の居場所なんざ、何処にもねぇんだよっ！」勇者マルケスは、獲物を威嚇するような声色を響かせる。「なんで、なんでだ……。今までずっと――」「いいから、早く消えて頂戴っ！この役立たず」勇者マルケスから腰に手を回されている聖女ヒルダは、先程まで悦びの笑みを浮かべていたが、ハンスの悲愴な嘆きを聞くや否や、その言葉を待たずに罵声を浴びせる。「せ、聖女様まで……くっ……」ガルデン王国にある冒険者ギルド所属のＳ級パーティ。通称『勇者パーティ』に、荷物持ちとして参加していたマシューは、突然にもパーティからの追放宣告をされたのだ。挙句『勇者マルケス』の他にも『聖女ヒルダ』『重騎士のゴルドー』『拳闘士バッカス』『魔導師公爵家ご令嬢。様々'}, {'label': 1, 'content': '話の流れの趣旨。※団体の名前などは逐次入れ替える。今は一時的にこのネーミングにしてる。⇒ピンカートン探偵会社[〝革命会社〟つまり、世界各地域の騒乱をプロデュースする。実態はCIAに委託されたもの。ウクライナ内戦・中東民主化・コソボ独立にまで関与し、南米など世界をくまなく騒乱の渦中に陥れた。そして次の標的として日本・中国・韓国・台湾・北朝鮮、つまり東アジア全域。][目的]⇒ネット右翼を扇動することでネトウヨが暴走し日本の治安を崩壊させる。CIAに委任される[真の目的]⇒技術的特異点を沖縄で引き起こし、科学技術により《神界》を世界全体に広げ預言の全て《全ての人間が神や霊を見れるようになる》を実現させる。⇒仲間邦雄[存在意義]⇒世界を裏で支配していたエッセネ派が、YHVH[キリスト・イスラム・ユダヤを支配する最大の神]の言う《神の計画》の実現のために奔走していたが、⇒その計画の最期の鍵が仲間邦雄であった。⇒技術的特異点を引き起こすまで、世界全ての軍事勢力を沖縄から排除できる《霊能力から生み出される軍事的な指揮能力》によって最小限のによって、その露払いを行う。⇒聖書にの名前がある。役割は、《神に対する挑戦者の排'}, {'label': 1, 'content': ' 「プロローグ」ーーきゃーー！ーーうわーー！騒然となる踊り場。運の悪いことは重なるモノだ。男は足を滑らせた。二限目の授業が終わり、移動教室へと向かう最中に階段から足を滑らせる。たったそれだけのこと。よくあるシチュエーションだが、彼は多少、運に恵まれなかった。踏み外したのが最も上の段で、階下まで数メートルあったこと。転げ落ちた先に、片付け忘れた文化祭の廃材があったこと。それの一つが、一メートルほどの折れた木の棒で、先が鋭利であったこと。些細な運の悪さも、これだけ重なれば一つの結果につながる。ーー死という最悪の結末に「はやく！はやく救急車を！」「誰か！誰か……」「だめだ！血が、血が止まらない！」阿鼻叫喚。休憩時間で賑わっていた廊下はパニック状態であった。倒れた男子生徒の胸に深々と突き刺さる木製の支柱。ぐったりと仰向けに倒れた生徒は痛みに暴れることも無く、ただ力無く横たわり、苦しそうに開いた口から、弱い吐息と血の泡を吐き出している。それは、誰の目にも手遅れであった。その瀕死の体の横にへたり込むもう一人の男子生徒。哀れな人物の友人らしい生徒は、半狂乱で何かを叫びながら朱第二話「雪の華」ーー俺、 の小中学時代は借金まみ'}]\n"
     ]
    }
   ],
   "source": [
    "print(pos_works[:5])"
   ]
  },
  {
   "cell_type": "code",
   "execution_count": 9,
   "id": "7b4a1b26-9620-4167-9e8f-93bf7ccd2d3a",
   "metadata": {},
   "outputs": [],
   "source": [
    "def analyze(n, v, a, text):\n",
    "    noun_list = []\n",
    "    verb_list = []\n",
    "    adjv_list = []\n",
    "    mecab = MeCab.Tagger(\"\")\n",
    "    \n",
    "    node = mecab.parseToNode(text)\n",
    "    while node:\n",
    "        term = node.feature.split(\",\")[0]\n",
    "        #print(f'{node.surface}:{term}')\n",
    "        if term == \"名詞\":\n",
    "            noun_list.append(node.surface)\n",
    "        elif term == \"動詞\":\n",
    "            verb_list.append(node.surface)\n",
    "        elif term == \"形容詞\" or term == \"副詞\":\n",
    "            adjv_list.append(node.surface)\n",
    "        else:\n",
    "            pass\n",
    "        node = node.next\n",
    "    \n",
    "    for noun in noun_list:\n",
    "        n[noun] += 1\n",
    "            \n",
    "    for verb in verb_list:\n",
    "        v[verb] += 1\n",
    "            \n",
    "    for adjv in adjv_list:\n",
    "        a[adjv] += 1\n",
    "    \n",
    "    return n, v, a\n",
    "    "
   ]
  },
  {
   "cell_type": "code",
   "execution_count": 49,
   "id": "9149e13a-7d6f-4a4a-a73e-f29b4f9bb333",
   "metadata": {},
   "outputs": [
    {
     "name": "stderr",
     "output_type": "stream",
     "text": [
      "100%|███████████████████████████████████████████████████████████████████████████████| 1852/1852 [00:52<00:00, 35.21it/s]\n"
     ]
    },
    {
     "data": {
      "text/plain": [
       "\"\\nprint(f'名詞\\u3000: {noun}')\\nprint(f'動詞\\u3000: {verb}')\\nprint(f'形容詞: {adjv}')\\n\""
      ]
     },
     "execution_count": 49,
     "metadata": {},
     "output_type": "execute_result"
    }
   ],
   "source": [
    "noun = defaultdict(int)\n",
    "verb = defaultdict(int)\n",
    "adjv = defaultdict(int)\n",
    "\n",
    "\"\"\"\n",
    "noun = pd.DataFrame(columns = ['word', 'count'])\n",
    "verb = pd.DataFrame(columns = ['word', 'count'])\n",
    "adjv = pd.DataFrame(columns = ['word', 'count'])\n",
    "\"\"\" \n",
    "for work in tqdm(pos_works):\n",
    "    sep = work['content'].split(\"。\")\n",
    "    for text in sep:\n",
    "        noun, verb, adjv = analyze(noun, verb, adjv, text)\n",
    "\"\"\"\n",
    "print(f'名詞　: {noun}')\n",
    "print(f'動詞　: {verb}')\n",
    "print(f'形容詞: {adjv}')\n",
    "\"\"\""
   ]
  },
  {
   "cell_type": "code",
   "execution_count": 52,
   "id": "7242df17-7bbc-4c46-9270-e136dd281418",
   "metadata": {},
   "outputs": [],
   "source": [
    "noun = OrderedDict(sorted(noun.items(), key=lambda x:x[1], reverse=True))\n",
    "verb = OrderedDict(sorted(verb.items(), key=lambda x:x[1], reverse=True))\n",
    "adjv = OrderedDict(sorted(adjv.items(), key=lambda x:x[1], reverse=True))\n",
    "noun = dict(itertools.islice(noun.items(), 50))\n",
    "verb = dict(itertools.islice(verb.items(), 50))\n",
    "adjv = dict(itertools.islice(adjv.items(), 50))"
   ]
  },
  {
   "cell_type": "code",
   "execution_count": 53,
   "id": "4eb4ed89-8b20-42a5-ab82-eecd8cc99b62",
   "metadata": {},
   "outputs": [],
   "source": [
    "with open('./test.tsv', 'w') as f:\n",
    "    w = csv.writer(f, delimiter='\\t')\n",
    "    w.writerow(['word', 'count'])\n",
    "    for key, val in noun.items():\n",
    "        w.writerow([key, val])"
   ]
  },
  {
   "cell_type": "code",
   "execution_count": 11,
   "id": "9d3d91a6-72e2-4d56-bedc-cdf5d415ff5c",
   "metadata": {},
   "outputs": [
    {
     "ename": "AttributeError",
     "evalue": "'collections.defaultdict' object has no attribute 'sort_values'",
     "output_type": "error",
     "traceback": [
      "\u001b[0;31m---------------------------------------------------------------------------\u001b[0m",
      "\u001b[0;31mAttributeError\u001b[0m                            Traceback (most recent call last)",
      "Input \u001b[0;32mIn [11]\u001b[0m, in \u001b[0;36m<cell line: 2>\u001b[0;34m()\u001b[0m\n\u001b[1;32m      1\u001b[0m pd\u001b[38;5;241m.\u001b[39mset_option(\u001b[38;5;124m'\u001b[39m\u001b[38;5;124mdisplay.max_rows\u001b[39m\u001b[38;5;124m'\u001b[39m, \u001b[38;5;28;01mNone\u001b[39;00m)\n\u001b[0;32m----> 2\u001b[0m \u001b[43mnoun\u001b[49m\u001b[38;5;241;43m.\u001b[39;49m\u001b[43msort_values\u001b[49m(\u001b[38;5;124m'\u001b[39m\u001b[38;5;124mcount\u001b[39m\u001b[38;5;124m'\u001b[39m, ascending\u001b[38;5;241m=\u001b[39m\u001b[38;5;28;01mFalse\u001b[39;00m)\u001b[38;5;241m.\u001b[39mhead()\n",
      "\u001b[0;31mAttributeError\u001b[0m: 'collections.defaultdict' object has no attribute 'sort_values'"
     ]
    }
   ],
   "source": [
    "pd.set_option('display.max_rows', None)\n",
    "noun.sort_values('count', ascending=False).head()"
   ]
  },
  {
   "cell_type": "code",
   "execution_count": 99,
   "id": "7b604910-b5af-4e01-93c8-46877323b9af",
   "metadata": {},
   "outputs": [
    {
     "data": {
      "text/html": [
       "<div>\n",
       "<style scoped>\n",
       "    .dataframe tbody tr th:only-of-type {\n",
       "        vertical-align: middle;\n",
       "    }\n",
       "\n",
       "    .dataframe tbody tr th {\n",
       "        vertical-align: top;\n",
       "    }\n",
       "\n",
       "    .dataframe thead th {\n",
       "        text-align: right;\n",
       "    }\n",
       "</style>\n",
       "<table border=\"1\" class=\"dataframe\">\n",
       "  <thead>\n",
       "    <tr style=\"text-align: right;\">\n",
       "      <th></th>\n",
       "      <th>word</th>\n",
       "      <th>count</th>\n",
       "    </tr>\n",
       "  </thead>\n",
       "  <tbody>\n",
       "    <tr>\n",
       "      <th>7746</th>\n",
       "      <td>し</td>\n",
       "      <td>6366</td>\n",
       "    </tr>\n",
       "    <tr>\n",
       "      <th>7737</th>\n",
       "      <td>いる</td>\n",
       "      <td>4311</td>\n",
       "    </tr>\n",
       "    <tr>\n",
       "      <th>7747</th>\n",
       "      <td>い</td>\n",
       "      <td>4171</td>\n",
       "    </tr>\n",
       "    <tr>\n",
       "      <th>7749</th>\n",
       "      <td>ある</td>\n",
       "      <td>2222</td>\n",
       "    </tr>\n",
       "    <tr>\n",
       "      <th>7699</th>\n",
       "      <td>する</td>\n",
       "      <td>1958</td>\n",
       "    </tr>\n",
       "  </tbody>\n",
       "</table>\n",
       "</div>"
      ],
      "text/plain": [
       "     word count\n",
       "7746    し  6366\n",
       "7737   いる  4311\n",
       "7747    い  4171\n",
       "7749   ある  2222\n",
       "7699   する  1958"
      ]
     },
     "execution_count": 99,
     "metadata": {},
     "output_type": "execute_result"
    }
   ],
   "source": [
    "verb.sort_values('count', ascending=False).head()"
   ]
  },
  {
   "cell_type": "code",
   "execution_count": 111,
   "id": "08de9b47-8731-4c75-b0bd-01f90f5441ab",
   "metadata": {},
   "outputs": [
    {
     "data": {
      "text/html": [
       "<div>\n",
       "<style scoped>\n",
       "    .dataframe tbody tr th:only-of-type {\n",
       "        vertical-align: middle;\n",
       "    }\n",
       "\n",
       "    .dataframe tbody tr th {\n",
       "        vertical-align: top;\n",
       "    }\n",
       "\n",
       "    .dataframe thead th {\n",
       "        text-align: right;\n",
       "    }\n",
       "</style>\n",
       "<table border=\"1\" class=\"dataframe\">\n",
       "  <thead>\n",
       "    <tr style=\"text-align: right;\">\n",
       "      <th></th>\n",
       "      <th>word</th>\n",
       "      <th>count</th>\n",
       "    </tr>\n",
       "  </thead>\n",
       "  <tbody>\n",
       "    <tr>\n",
       "      <th>2421</th>\n",
       "      <td>ない</td>\n",
       "      <td>2075</td>\n",
       "    </tr>\n",
       "    <tr>\n",
       "      <th>2411</th>\n",
       "      <td>そう</td>\n",
       "      <td>998</td>\n",
       "    </tr>\n",
       "    <tr>\n",
       "      <th>2420</th>\n",
       "      <td>どう</td>\n",
       "      <td>680</td>\n",
       "    </tr>\n",
       "    <tr>\n",
       "      <th>2415</th>\n",
       "      <td>なく</td>\n",
       "      <td>670</td>\n",
       "    </tr>\n",
       "    <tr>\n",
       "      <th>2414</th>\n",
       "      <td>もう</td>\n",
       "      <td>551</td>\n",
       "    </tr>\n",
       "  </tbody>\n",
       "</table>\n",
       "</div>"
      ],
      "text/plain": [
       "     word count\n",
       "2421   ない  2075\n",
       "2411   そう   998\n",
       "2420   どう   680\n",
       "2415   なく   670\n",
       "2414   もう   551"
      ]
     },
     "execution_count": 111,
     "metadata": {},
     "output_type": "execute_result"
    }
   ],
   "source": [
    "adjv.sort_values('count', ascending=False).head()"
   ]
  },
  {
   "cell_type": "code",
   "execution_count": 112,
   "id": "05ace561-03f3-44ae-a7ef-5ae71eca60f5",
   "metadata": {},
   "outputs": [],
   "source": [
    "noun = noun.sort_values('count', ascending=False).reset_index(drop=True)\n",
    "verb = verb.sort_values('count', ascending=False).reset_index(drop=True)\n",
    "adjv = adjv.sort_values('count', ascending=False).reset_index(drop=True)"
   ]
  },
  {
   "cell_type": "code",
   "execution_count": 25,
   "id": "c04e4919-670b-4e6e-8d40-af0023c9bf76",
   "metadata": {},
   "outputs": [
    {
     "ename": "AttributeError",
     "evalue": "'dict' object has no attribute 'to_csv'",
     "output_type": "error",
     "traceback": [
      "\u001b[0;31m---------------------------------------------------------------------------\u001b[0m",
      "\u001b[0;31mAttributeError\u001b[0m                            Traceback (most recent call last)",
      "Input \u001b[0;32mIn [25]\u001b[0m, in \u001b[0;36m<cell line: 2>\u001b[0;34m()\u001b[0m\n\u001b[1;32m      1\u001b[0m os\u001b[38;5;241m.\u001b[39mmakedirs(\u001b[38;5;124m'\u001b[39m\u001b[38;5;124m./morpheme/front-512/42\u001b[39m\u001b[38;5;124m'\u001b[39m, exist_ok\u001b[38;5;241m=\u001b[39m\u001b[38;5;28;01mTrue\u001b[39;00m)\n\u001b[0;32m----> 2\u001b[0m \u001b[43mnoun\u001b[49m\u001b[38;5;241;43m.\u001b[39;49m\u001b[43mto_csv\u001b[49m(\u001b[38;5;124m'\u001b[39m\u001b[38;5;124m./morpheme/front-512/42/noun.tsv\u001b[39m\u001b[38;5;124m'\u001b[39m, sep\u001b[38;5;241m=\u001b[39m\u001b[38;5;124m'\u001b[39m\u001b[38;5;130;01m\\t\u001b[39;00m\u001b[38;5;124m'\u001b[39m, index\u001b[38;5;241m=\u001b[39m\u001b[38;5;28;01mFalse\u001b[39;00m)\n\u001b[1;32m      3\u001b[0m verb\u001b[38;5;241m.\u001b[39mto_csv(\u001b[38;5;124m'\u001b[39m\u001b[38;5;124m./morpheme/front-512/42/verb.tsv\u001b[39m\u001b[38;5;124m'\u001b[39m, sep\u001b[38;5;241m=\u001b[39m\u001b[38;5;124m'\u001b[39m\u001b[38;5;130;01m\\t\u001b[39;00m\u001b[38;5;124m'\u001b[39m, index\u001b[38;5;241m=\u001b[39m\u001b[38;5;28;01mFalse\u001b[39;00m)\n\u001b[1;32m      4\u001b[0m adjv\u001b[38;5;241m.\u001b[39mto_csv(\u001b[38;5;124m'\u001b[39m\u001b[38;5;124m./morpheme/front-512/42/adjv.tsv\u001b[39m\u001b[38;5;124m'\u001b[39m, sep\u001b[38;5;241m=\u001b[39m\u001b[38;5;124m'\u001b[39m\u001b[38;5;130;01m\\t\u001b[39;00m\u001b[38;5;124m'\u001b[39m, index\u001b[38;5;241m=\u001b[39m\u001b[38;5;28;01mFalse\u001b[39;00m)\n",
      "\u001b[0;31mAttributeError\u001b[0m: 'dict' object has no attribute 'to_csv'"
     ]
    }
   ],
   "source": [
    "os.makedirs('./morpheme/front-512/42', exist_ok=True)\n",
    "noun.to_csv('./morpheme/front-512/42/noun.tsv', sep='\\t', index=False)\n",
    "verb.to_csv('./morpheme/front-512/42/verb.tsv', sep='\\t', index=False)\n",
    "adjv.to_csv('./morpheme/front-512/42/adjv.tsv', sep='\\t', index=False)"
   ]
  }
 ],
 "metadata": {
  "kernelspec": {
   "display_name": "Python 3 (ipykernel)",
   "language": "python",
   "name": "python3"
  },
  "language_info": {
   "codemirror_mode": {
    "name": "ipython",
    "version": 3
   },
   "file_extension": ".py",
   "mimetype": "text/x-python",
   "name": "python",
   "nbconvert_exporter": "python",
   "pygments_lexer": "ipython3",
   "version": "3.9.12"
  }
 },
 "nbformat": 4,
 "nbformat_minor": 5
}
