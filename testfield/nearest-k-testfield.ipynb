{
 "cells": [
  {
   "cell_type": "code",
   "execution_count": 171,
   "id": "c86577f1-547b-43c2-8c29-820b0b908051",
   "metadata": {},
   "outputs": [
    {
     "data": {
      "text/plain": [
       "9223372036854775807"
      ]
     },
     "execution_count": 171,
     "metadata": {},
     "output_type": "execute_result"
    }
   ],
   "source": [
    "import os\n",
    "import re\n",
    "import csv\n",
    "import sys\n",
    "import json\n",
    "import random\n",
    "import workFactory as wf\n",
    "\n",
    "import MeCab\n",
    "\n",
    "from tqdm import tqdm\n",
    "\n",
    "csv.field_size_limit(sys.maxsize)"
   ]
  },
  {
   "cell_type": "code",
   "execution_count": 164,
   "id": "7710d179-223b-480e-be7b-b22dcdb1f9d7",
   "metadata": {},
   "outputs": [
    {
     "name": "stderr",
     "output_type": "stream",
     "text": [
      "50000it [00:00, 713108.41it/s]\n"
     ]
    }
   ],
   "source": [
    "TARGET = 42\n",
    "SIM_PATH = f'./morpheme/similarity/{TARGET}'\n",
    "PATH = f'./tsv/morpheme/{TARGET}'\n",
    "simList = wf.load_tsv_similarity(f'{SIM_PATH}/total_avg.tsv')\n",
    "simKList = [word['word'] for word in simList][:10]\n",
    "#simKList.append(\"妹\")\n",
    "works = wf.load_tsv_dataset(f'{PATH}/test.tsv')"
   ]
  },
  {
   "cell_type": "code",
   "execution_count": 165,
   "id": "4917316d-6a84-4943-8f3c-de14631f9efd",
   "metadata": {},
   "outputs": [],
   "source": [
    "'''\n",
    "for i, work in enumerate(works):\n",
    "    if len(work['content']) < 2000:\n",
    "        print(i, work)\n",
    "'''\n",
    "##33\n",
    "work = works[42]\n",
    "#print(work)\n",
    "#print(works[42])"
   ]
  },
  {
   "cell_type": "code",
   "execution_count": 166,
   "id": "66038382-60da-425b-9e40-dbd77f6386d3",
   "metadata": {},
   "outputs": [],
   "source": [
    "def getPScoreOffset(simKList, content, offset, mecab):\n",
    "    stageCount = len(content)//offset\n",
    "    result = []\n",
    "    for i in range(0, stageCount):\n",
    "        paragraph = content[i*offset:i*offset+512]\n",
    "        phrase = mecab.parse(paragraph).replace(\"\\n\", \"\")\n",
    "        sep = re.split(\" \", phrase)\n",
    "        score = 0\n",
    "        for word in sep:\n",
    "            if word in simKList:\n",
    "                score += 1\n",
    "        if score != 0:\n",
    "            result.append({\n",
    "                'pos': i*offset,\n",
    "                'end': i*offset+512,\n",
    "                'score': score,\n",
    "                'content': phrase\n",
    "            })\n",
    "    return result"
   ]
  },
  {
   "cell_type": "code",
   "execution_count": 172,
   "id": "e3851771-ed72-4f79-853f-c7fa2072862f",
   "metadata": {
    "scrolled": true,
    "tags": []
   },
   "outputs": [],
   "source": [
    "def getJointListByOffset(content, offset):\n",
    "    content = content.replace(\"\\n\", \"\\n \")\n",
    "    sep = re.split(\" \", content)\n",
    "    sepList = [] \n",
    "    compList = []\n",
    "    for i, word in enumerate(sep):\n",
    "        if sum(len(i) for i in sepList) < offset:\n",
    "            sepList.append(word)\n",
    "            if i == len(sep)-1:\n",
    "                compList.append(\" \".join(sepList))\n",
    "        else:\n",
    "            compList.append(\" \".join(sepList))\n",
    "            sepList.clear()\n",
    "            sepList.append(word)\n",
    "    jointList = []\n",
    "    for i, _ in enumerate(compList):\n",
    "        try:\n",
    "            if offset == 256:\n",
    "                jointList.append(compList[i]+compList[i+1])\n",
    "            elif offset == 512:\n",
    "                jointList.append(compList[i])\n",
    "        except IndexError:\n",
    "            _\n",
    "    return jointList"
   ]
  },
  {
   "cell_type": "code",
   "execution_count": 237,
   "id": "422aa968-7919-4837-b37c-7269138a43a3",
   "metadata": {},
   "outputs": [],
   "source": [
    "def getPScoreOffsetWOMECAB(simKList, content, offset, mecab):\n",
    "    jointList = getJointListByOffset(content, offset)\n",
    "    result = []\n",
    "    for joint in jointList:\n",
    "        paragraph = joint.replace(\"\\n\", \"[SEP]\")\n",
    "        sep = re.split(\" \", paragraph)\n",
    "        score = 0\n",
    "        for word in sep:\n",
    "            if word in simKList:\n",
    "                score += 1\n",
    "        if score != 0:\n",
    "            result.append({\n",
    "                'score': score,\n",
    "                'content': \" \".join(sep)\n",
    "            })\n",
    "    \n",
    "    resultNum = len(result)\n",
    "    if resultNum < 10:\n",
    "        extra = 10 - resultNum\n",
    "        for i in range(0, extra):\n",
    "            if len(content) > 512:\n",
    "                rand = random.randint(0, len(content)-512)\n",
    "            else:\n",
    "                rand = 0\n",
    "            randContent = content[rand:]\n",
    "            randContent = randContent.replace(\" \", \"\")\n",
    "            randContent = randContent.replace(\"\\n\", \"\\\\\")\n",
    "            randContent = randContent[:512]\n",
    "            randResult = mecab.parse(randContent)\n",
    "            randResult = randResult.replace(\"\\n\", \"\")\n",
    "            randResult = randResult.replace(\"\\\\\", \"[SEP]\")\n",
    "            result.append({\n",
    "                'score': -1,\n",
    "                'content': randResult\n",
    "            })\n",
    "    return resultNum, result"
   ]
  },
  {
   "cell_type": "code",
   "execution_count": 239,
   "id": "2618234e-c6b5-4822-bf34-e37ba7653f66",
   "metadata": {},
   "outputs": [
    {
     "name": "stdout",
     "output_type": "stream",
     "text": [
      "2\n",
      "[{'score': 1, 'content': 'やっ て き た [SEP] 髪 の 長い もはや 妖怪 みたい な の が 、 ぴちゃぴちゃ と 水 を 垂らし ながら 迫っ て くる シーン [SEP] なかなか だっ た [SEP] 夏希 じゃ 耐え られる わけ が ない [SEP] にやり と し ながら 、 前 を 見る [SEP] ん っ [SEP] 思わ ず 声 が 出 そう に なる の を 必死 に 堪える [SEP] 夏希 と お 兄 ちゃん は 手 を 重ね て い た [SEP] な っ 、 夏希 、 この アマ 、 あたし の お 兄 ちゃん に 手 を [SEP] な ん だ か 積極 的 に なっ てる [SEP] いつ も より も 少し 大人 っ ぼく 色づい た 顔 を し て いる の は メーク の せい だろう か [SEP] 一瞬 、 夏希 が はっと 何 か 閃い た 顔 を し た の が 気 に なる [SEP] 夏希 の 横顔 は 幸せ そう で 恐怖 と は 無縁 の 印象 を あたし に 与え た [SEP] な ん だ か 、 妙に 嫌 な 予感 が し た [SEP] お 兄 ちゃん の こと を より 考え出し た の か 、 中盤 から は 何 やら 小 動物 ぽ さ が 増し て 、 耳元 で ささやきあっ たり 、 さらに 甘え だし て いる [SEP] くそ 、 くそう [SEP] こんな はず じゃ ない の に [SEP] ま 、 まさか 、 夏希 の 奴 … … 天才 的 な 頭脳 を 有し て いる あたし の 脳裏 に は 良く ない 考え が 浮かん だ [SEP] あり 得 ない と は 思う が 、 もし そう なら 夏希 が ここ まで 耐え られ た 説明 も つく [SEP] あたし は 勢い よく ポップコーン を 口 に 入れ だし 、 もはや 本編 など どう で も よく なり 、 この ２人 の 方 に 集中 し かけ て い た [SEP] 作品 は クライマックス に 突入 し た [SEP] 恐怖 心 の 煽り が 最高 点 に 達し 、 お 客 さん の'}, {'score': 1, 'content': 'に 嫌 な 予感 が し た [SEP] お 兄 ちゃん の こと を より 考え出し た の か 、 中盤 から は 何 やら 小 動物 ぽ さ が 増し て 、 耳元 で ささやきあっ たり 、 さらに 甘え だし て いる [SEP] くそ 、 くそう [SEP] こんな はず じゃ ない の に [SEP] ま 、 まさか 、 夏希 の 奴 … … 天才 的 な 頭脳 を 有し て いる あたし の 脳裏 に は 良く ない 考え が 浮かん だ [SEP] あり 得 ない と は 思う が 、 もし そう なら 夏希 が ここ まで 耐え られ た 説明 も つく [SEP] あたし は 勢い よく ポップコーン を 口 に 入れ だし 、 もはや 本編 など どう で も よく なり 、 この ２人 の 方 に 集中 し かけ て い た [SEP] 作品 は クライマックス に 突入 し た [SEP] 恐怖 心 の 煽り が 最高 点 に 達し 、 お 客 さん の何 人 か も 悲鳴 を 上げ だし て いる [SEP] いくら 、 お 兄 ちゃん の 方 に 意識 を 向け たって 、 夏希 、 あんた じゃ ここ で 絶対 に 気絶 を ―― [SEP] ふ ぁああ あああ [SEP] 思わ ず 声 を 上げ て しまっ た の は 、 画面 上 の 出来事 から で は ない [SEP] お 兄 ちゃん と 夏希 が 濃厚 な ラブ シーン を 演じ て い た からだ [SEP] 見 て いる こっち まで 恥ずかしく なっ て き そう な 甘く て 、 ながい 、 長い 時間 [SEP] あまり の こと に あたし は 呆然 と し 口 に 入れ て い た ポップコーン が 鼻 から 出 て くる [SEP] やり やがっ た 、 やり やがっ た なぁ [SEP] あたし の 助言 の 何 を どこ を 超絶 勘違い し た の か しら ない けど 、 夏希 は 極限 状態 の 恐怖 心 を 唯一 緩和 できる 最高'}, {'score': -1, 'content': '… って 聞い ちゃっ た [SEP] はは っ … … 心配 する 必要 なかっ た な [SEP] 夏希 、 その 辺 逞しい から な [SEP] … … わたし は 大丈夫 だ よ [SEP] あき 君 の こと を 大好き 、 それ が 変わる わけ ない し 、 恋 の 邪魔 は さ れ たく ない [SEP] ありがとう [SEP] 彼女 が 夏希 で よかっ た [SEP] もう [SEP] 少し だけ 心 が 晴れ て 授業 中 の 教室 に 入る と ―― 歓声 と 大きな 拍手 が 俺 たち を 出迎え て くれる [SEP] ２人 とも 、 旅行 行っ た の [SEP] いい な 、 いい なあ [SEP] ひと夏 の 思い出 作っ た ん だ [SEP] この リア充 ども め [SEP] どう やら 自習 授業 に なっ て い た よう で 、 途端 に 俺 たち は 囲ま れ た [SEP] これ は これ で 、 ものすごく 恥ずかしい けど 、 クラスメイト の 嬉し そう で 羨まし そう な 視線 を 浴び て 陽 以外 に も 俺 たち に は 味方 が いる こと を 理解 でき て 心底 感謝 し た [SEP] だ けど 、 俺 と 夏希 の 想い が 本当 に 試さ れる の は ここ から だっ た ん だ [SEP] 例 の 写真 は クラスメイト が 全部 剥がし て くれ た [SEP] だ が すでに 、 俺 と 夏希 は 学校 中 の 話題 に なっ て い て 休み 時間 に なる と 野次馬 が 廊下 に 集まっ て くる [SEP] それ だけ なら まだ よかっ た ―― 普段 なら 夏希 と 一緒 に 別 教室 で お 弁当 を 食べ た ところ だ けど 、 今日 は ２人 で 教室 を 出る と 余計 に 目立つ と 思い 、 向かい合っ て の 昼休み [SEP] な 、 夏希 、 その 、 先輩 が 呼ん でる … … [SEP] １人 の 女子 生徒 が 少し 青ざめ た 顔 で 夏希 に 声 を 掛け てく '}, {'score': -1, 'content': '[SEP] うわ ～ 、 なん か ういういしい ね [SEP] 付き合っ て まだ 間 も ない でしょ [SEP] ううっ 、 幸せ オーラ に 絡み取ら れる [SEP] その バイト の 可愛らしい 女 の 人 は 心地 いい くらい に 鋭く 、 俺 と 夏希 に 話しかけ て き て い た [SEP] 何 か 言わ れる たび に 、 俺 たち が 顔 を 赤く し て しまう の で 、 余計 に からかわ れ て しまっ て いる の だ が ―― なん で だろ 、 こう いう の は 嫌い じゃ ない [SEP] あ 、 あ 、 あき 君 、 大丈夫 [SEP] おっ 、 おう [SEP] 夏希 こそ … … [SEP] わ 、 わたし は 大丈夫 [SEP] なん か 楽しい [SEP] う 、 うん [SEP] 今日 は デート の 後 の こと が 頭 に 過っ て い て 、 緊張 と 不安 で 楽しめ ない か も と 思っ て た [SEP] けど そんな こと は なかっ た [SEP] この 場所 に 最初 に き て 正解 だ な [SEP] そう は 言っ て も 、 やっぱり 恥ずかしい けど ―― 目 の 前 に いる 幼馴染 に 見る と 、 何 を 考え て いる か わかっ て い た か の よう に 可愛い 、 可愛い 笑顔 を 浮かべ た [SEP] 小 動物 の よう な 視線 は 上目 遣い に なり 、 夏希 も 少し からかう よう に 俺 を 見つめる [SEP] あき 君 なら 大丈夫 だ よ [SEP] ☆ ☆ ☆ 日 が 暮れ た と は いえ 、 まだまだ 気温 は 高い [SEP] シャワー を 浴び 正装 し て 、 改めて 川瀬 家 へ と 向かっ た [SEP] 昼間 の デート が 上手く いっ た こと を 、 なん だ か 陽 は 心底 驚い て いる 気 が し た けど 、 これ も いつ も 通り か [SEP] 『 旅行 も 行く ん だ し 、 いくら 幼馴染 で も ご 両親 に 挨拶 なし で は 亀裂 が 入 '}, {'score': -1, 'content': 'から [SEP] 陽 の 奴 、 自分 で 言っ た こと 覚え て い ない の だろう か [SEP] 俺 は 明日 を 想定 し 、 陽 を 売店 に 並ば せ ２人 分 の チケット を 券売 機 にて 購入 [SEP] 売店 で 陽 と 合流 し 、 ポップコーン の セット を 買っ て 椅子 に 座り 会場 入り を 待っ た [SEP] 陽 の 好き な 劇場 版 ぷ いき ゅあは 開場 し た らしく ぞろぞろ と 列 に なっ て いる [SEP] 陽 は それ を 恨めし そう に 見つめ 、 ぶつぶつ と 何 か 言い ながら しょんぼり と 肩 を 落とす [SEP] 毎週 欠かさ ず みる ほど 好き な アニメ だ から な [SEP] 今日 は ダメ だ けど 、 あと で 観 に 来る か [SEP] ほんと っ [SEP] お 兄 ち ゃんとぷいきゅあ … … ふ あぁ [SEP] なっ ちゃんと デート できる の は 陽 の おかげ だ し な [SEP] … … う 、 うん [SEP] 陽 は どこ か 申し訳 なさ そう な 顔 を し た よう に も 見え た が 、 すぐ に 薄ら笑い を なぜ か 浮かべ た [SEP] ☆ ☆ ☆ 俺 たち が 観る 映画 開始 の １０ 分 前 に なり 、 開場 さ れる と 陽 は 何 観る ん だ と 興味 が 湧い た よう で スクリーン の 方 に 足早 に 向かっ て 行く [SEP] だ が 、 陽 は 作品 ポスター の 前 で 呆然 と 立ち尽くし 、 口 を 大層 開け 驚き の 表情 を 作る [SEP] … … お 、 お 兄 ちゃん 、 これ って [SEP] ミュージカル 映画 だ な [SEP] それ は 陽 が 最も 苦手 と する ジャンル だっ た [SEP] これ も 相手 の 苦手 な もの を 選べ と いう 、 陽 の アドバイス に 従っ て の こと だ [SEP] 上映 後 [SEP] どう だっ た [SEP] もはや 絶望 感 すら 漂わ せ て いる 陽 に 俺 '}, {'score': -1, 'content': 'な … … に 目覚め 始め やがっ て [SEP] やはり 陽 は 具合 が 悪い の か 、 地団駄 を 踏み ながら 野菜 スープ を がっつい て 飲ん だ [SEP] この 食欲 が あれ ば 安心 だ な [SEP] あき 君 、 片づけ は わたし が やっ て おく から 、 陽 ちゃん を ２ 階 に 運ん で あげ て [SEP] 食事 が 終わり 、 陽 は 少し ウトウト し 始め て い て 、 それ に 逆らう よう に 首 を 振っ て い た [SEP] 悪い な 、 夏希 [SEP] じゃあ お 願い する [SEP] ニヤリ と 陽 が 気味 悪く 笑う [SEP] お 兄 ちゃん 、 おんぶ が いい [SEP] おまえ なあ 、 甘え すぎ だ ぞ [SEP] … … まあ 今日 だけ な [SEP] 屈め た 俺 の 背中 に 優しく 覆いかぶさっ て くる [SEP] なん だ か ちょっと 昔 を 思い出す [SEP] 小さい ころ は よく こう し て おんぶ を し て あげ て い た な [SEP] こんな ふう に よく 甘え て き て くれ て い た [SEP] ガキ の 頃 、 俺 は 陽 と いつ も 一緒 だっ た [SEP] 他 の 子 が 保育 園 や 幼稚 園 で 知っ て いる 人 が 誰 も い ない 状況 下 で も 、 俺 に は 陽 が い た [SEP] だ から 新しい 生活 を 迎える 時 も 、 友達 が 出来る か な って 不安 は 俺 に は 全く なかっ た [SEP] お 兄 ちゃん 、 大きく なっ た ね [SEP] お前 こそ 、 女の子 っぽく なっ た な [SEP] 俺 に 抱き着い て き て 耳元 で そんな こと を 言う 妹 [SEP] 俺 も 思っ て いる こと を その まんま 伝え た [SEP] 柔らかい 胸 と さらさら し た 髪 が 肌 を 通し て 柔らか さ と 甘い 匂い を 俺 に 感じ させる [SEP] へへへ 、 これ で も 人気 ある ん だ よ [SEP] 知っ てる よ [SEP] お 、 お 兄 ち '}, {'score': -1, 'content': 'っ はは きゃ [SEP] 薄ら笑い を 浮かべ た 気 も する けど 、 陽 に は 何 か 考え が ある ん だろう [SEP] わかっ た [SEP] じゃあ その 誘い 方 と やら を 伝授 し て くれ [SEP] ☆ ★ ★ ★ ☆ １ 時間 後 、 俺 は 夏希 と 彼女 の 家 の 玄関 先 で 対面 し て い た [SEP] … … っ [SEP] なっ ちゃん 、 ごめん ね 、 突然 [SEP] … … [SEP] 夏希 が 恥ずかし そう に うん うん と 首 を 振っ て いる [SEP] スマホ の メッセージ にて 夏希 に １ 時間 後家 に 行く [SEP] 話 し たい と 送っ て い た [SEP] １ 時間 の 間 に 俺 と 陽 は 夕食 を 済ま せ 、 準備 と 出来 うる 限り の リハーサル を 重ね た [SEP] あの 、 はなし が あっ て … … [SEP] … … [SEP] んっ [SEP] と 夏希 は 俺 の 姿 を 見 て 小首 を 傾げ て いる [SEP] それ も その はず だ [SEP] 俺 の 恰好 は 陽 に 渡さ れ た スーツ で 、 手 に 抱え て いる の は どこ で 用意 し た の か わから ない 花束 [SEP] 陽 の 知恵 が 授け て くれ た 絶対 成功 する デート の 誘い 方 通り の 服装 と 持ち物 [SEP] ～ ～ ～ 『 プロポーズ する つもり で デート に 誘う の よ 』 『 えっ 、 で も この 格好 で [SEP] これ は さすが に … … 』 『 すれ ば わかる わ [SEP] あっ 、 ちゃんと 最初 に 跪い て 夏希 の 手 を 取っ て キス する こと [SEP] 忘れ ちゃ ダメ だ から 』 『 え えぇぇ ぇ [SEP] … … 』 ～ ～ ～ 不思議 そう な 顔 を し て 瞬き を 繰り返し て いる 夏希 の 前 に 跪く [SEP] 緊張 は し て いる けど 、 なん だ か それ 以上 に 恥ずかし さ で 感覚 が マヒ し て い た ん だ [SEP] だ から 気 が 付い た 時 に は '}, {'score': -1, 'content': '… あの 、 お 姉 さん 、 手 が 痛い です [SEP] 気づい て た ん だ な 、 お前 … … さすが だ な [SEP] 知っ て た ん だ 、 陽 ちゃん … … さすが だ ね [SEP] 俺 と 夏希 は また も また も 妹 に 感心 さ せ られ て しまう [SEP] 俺 と 夏希 に とっ て 仰天 する 出来事 が 起き た の は この 少し 後 の こと だっ た [SEP] チェック イン を し て 部屋 へ と 荷物 を 置き に 行く [SEP] ベッド が 二 つ と ソファー ベッド が １ つ 用意 さ れ 、 窓 から は 海岸 が 一望 でき た [SEP] うわー 、 ここ から も いい 眺め だ ね [SEP] ほんと だ な [SEP] 俺 たち 旅行 に 来 た ん だ と 再 認識 する [SEP] 夏希 と 夜 も ずっと 一緒 な ん だ よ な と 考える と 、 それ だけ で ―― その 夏希 は と いう と 、 そっと 指 だけ 絡め て き た [SEP] ちょ … … [SEP] あき 君 と 同じ こと 考え てる と 思う [SEP] えっ 、 あっ 、 そっ か … … 色々 話す 時間 に しよう [SEP] はい っ [SEP] 夏希 は いつ も の 口元 を だらしなく 緩め た 笑顔 に なる [SEP] 俺 は と いう と 、 その 顔 を 目 に 焼き付け て おき たい と 思い つつ も 、 少し 見 て から やはり 視線 を そらし て しまっ た [SEP] で も 、 どんな 気持ち な の か は 伝わっ て いる [SEP] そんな 俺 たち 二人 の 後ろ で は ――[SEP] こう いう ２人 を 見 て 、 勘違い し て 自分 も と 思う 人 が いる の [SEP] それ が 甘い って わけ [SEP] なっ 、 なるほど [SEP] 蓄積 し て き てる もの が 全然 違う の よ [SEP] 会え ば その 人 の 体調 まで わかる だろう し 、 １日 の 半分 以上 は 互い の こと 考え てる '}, {'score': -1, 'content': '喧嘩 し ない よう に 夏希 に は 昔 注意 さ れ た こと が あっ た [SEP] で も わかっ て い て も 今日 だけ は … … こいつ だけ は 、 何 発 か 本気 で 体 に 入れ ない と 俺 の 気 が どう し て も すま なかっ た [SEP] もう 十分 だ 、 あき [SEP] どっち が 悪者 か は ここ に いる 誰 も が 理解 し た さ [SEP] タイミング よく 新開 が 割っ て 入り 、 握っ て い た 拳 を ゆっくり と 解く [SEP] 息 を 上げ 、 恐怖 すら 浮かべる 高瀬 に 目 いっぱい の 睨み を 利か せる [SEP] だ から 言っ た でしょ 、 先輩 [SEP] 敵 に 回し ちゃ いけ ない って [SEP] 俺 も あき も 喧嘩 早い ん です よ [SEP] トドメ と ばかり に 飛び蹴り を かます [SEP] いや 、 違う ぞ [SEP] お前 だけ 逆恨み さ れ たら 気の毒 だ から な [SEP] 最後 は 俺 が 的 な [SEP] むかつい た の は 確か だ が … … [SEP] はは っ [SEP] 倒れ て いる 高瀬 に 女性 陣 が 取り囲み 、 さらに 手 を 出さ れ て い た の を 見 て 、 鬱憤 は 晴れ た [SEP] こう し て 俺 たち ３ 人 の 反撃 は 終わり 、 この 日 から 俺 と 夏希 は 全校 生徒 公認 の カップル と なっ て しまっ た [SEP] 理由 は ある が 、 手 を 出し て しまっ た の は 事実 で 俺 は 自主 的 に １ 週間 学校 を 休ん だ [SEP] 高瀬 は と いう と 、 その 他 に も 行っ て い た 悪行 が 次々 に バレ 、 クラスメイト の 親 も 巻き込ん で の 大 騒動 に 発展 し 、 教師 の 目 は 俺 たち から 完全 に そちら側 に 向い た よう だ [SEP] あんな 最悪 な やつ 、 叩け ば 埃 が 出る に 決まっ てる じゃん [SEP] そこ まで が 陽 の 作戦 '}, {'score': -1, 'content': 'よう に なっ て 、 料理 も する よう に なっ て い た [SEP] ネット で 調べろ って 昨日 言っ たろ [SEP] えっ ー 、 手取り 足取り 教え てっ て 昨日 言っ た じゃん [SEP] こう いう ところ は 相 変わら ず で 、 むっと し た 態度 を 示し わざと すり寄っ て 来る [SEP] そんな 陽 の 行動 を 夏希 は 最近 良し と し ない よう で 、 [SEP] おはよう 、 あき 君 [SEP] 陽 ちゃん … … ちょっと 離れ よ [SEP] 朝 早く から 家 に 来 て 、 ご飯 を 一緒 に 食べ て から 登校 する の が 日課 に なっ た [SEP] 夏希 … … 毎日 の よう に うち に … … [SEP] 彼女 だ もん [SEP] くっ 、 うっ 、 容赦 ねえ [SEP] 陽 を 弄る こと を 楽しく さえ 思っ て い そう で 、 朝 から 小 動物 の よう に 動き回り 、 朝食 の 手伝い を し て くれ 、 あの 口元 が 緩ん だ だらしない 笑顔 を さらに に へら と 進化 さ せ た 満 笑顔 を 作る [SEP] … … [SEP] そんな 俺 たち の 様子 を どこ か 寂し そう に 、 で も 嬉し そう に 眺める 陽 は 、 [SEP] ねえ ２人 とも 、 今日 って 放課 後 予定 ある [SEP] ない けど … … [SEP] なら さ 、 ちょっと 会っ て ほしい 人 が 居る ん だ けど な … … [SEP] 互い の 顔 を 見つめ 、 沈黙 し た 俺 たち は 徐々 に 徐々 に 表情 が 緩ん で いく [SEP] それ って あれ か 、 紹介 し たい 人 が 見 たい な … … [SEP] それ って あれ か な 、 紹介 し たい 人 が 見 たい な こと か な … … [SEP] ハモル な [SEP] まあ 、 そう … … [SEP] 頬 を 桜色 に し て モジ モジ する 妹 の お 姿 は 滅多 に 見る こと が 出来 ず に 新鮮 だっ た [SEP] じ '}]\n"
     ]
    }
   ],
   "source": [
    "content = work['content']\n",
    "#print(len(content))\n",
    "mecab = MeCab.Tagger(\"-Owakati\")\n",
    "num, scores = getPScoreOffsetWOMECAB(simKList, content, 256, mecab)\n",
    "print(num)\n",
    "print(scores)\n",
    "#print(sorted(scores, key=lambda x: x['score'], reverse=True))\n",
    "#print(len(scores[65]['content'].replace(\" \",\"\")))"
   ]
  },
  {
   "cell_type": "code",
   "execution_count": 30,
   "id": "2a9a51b4-7596-462d-a003-8a57a10d5d9a",
   "metadata": {},
   "outputs": [
    {
     "name": "stdout",
     "output_type": "stream",
     "text": [
      "75088\n",
      "45986\n",
      "29103\n",
      "128\n"
     ]
    }
   ],
   "source": [
    "content = work['content']\n",
    "content = content.replace('\\n', '')\n",
    "print(len(content))\n",
    "content = content.replace(' ', '')\n",
    "print(len(content))\n",
    "#sep = re.split(\" \", content)\n",
    "scores = getPScoreOffset(simKList, sep, 128)"
   ]
  },
  {
   "cell_type": "code",
   "execution_count": null,
   "id": "55c5dbcc-5549-4f6f-9ec1-5734bc47e2bd",
   "metadata": {},
   "outputs": [],
   "source": [
    "### note: label needs to be return to 2 digit binary -> 10 01"
   ]
  },
  {
   "cell_type": "code",
   "execution_count": null,
   "id": "ef4d72b0-d648-40ec-b8d1-aa8a829452fc",
   "metadata": {},
   "outputs": [],
   "source": [
    "content = work['content']\n",
    "content = content.replace('\\n', '')\n",
    "#print(content)\n",
    "sep = re.split(\" \", content)\n",
    "#print(sep)"
   ]
  },
  {
   "cell_type": "code",
   "execution_count": null,
   "id": "9cc0a1b3-5bdf-46d9-aa40-d7c2227d6906",
   "metadata": {},
   "outputs": [],
   "source": [
    "def getPositionScore(matchWords, sep):\n",
    "    # define variables\n",
    "    scores = [{'pos': 0, 'len': 0, 'end': 0, 'score':0}]\n",
    "    wordCount = 0\n",
    "    scoreCount = 0\n",
    "    positionCount = 0\n",
    "    endCount = 0\n",
    "    \n",
    "    # calculate position scores\n",
    "    while endCount < len(sep):\n",
    "        if wordCount < 512:\n",
    "            wordCount += len(sep[endCount])\n",
    "            if sep[endCount] in matchWords:\n",
    "                scoreCount += 1 # we can change weight by setting into word score\n",
    "        elif wordCount == 512:\n",
    "            wordCount -= len(sep[positionCount])\n",
    "            if sep[positionCount] in matchWords:\n",
    "                scoreCount -= 1 # we can change weight by setting into word score\n",
    "            wordCount += len(sep[endCount])\n",
    "            if sep[endCount] in matchWords:\n",
    "                scoreCount += 1 # we can change weight by setting into word score\n",
    "            positionCount += 1\n",
    "        elif wordCount > 512:\n",
    "            wordCount -= len(sep[positionCount])\n",
    "            if sep[positionCount] in matchWords:\n",
    "                scoreCount -= 1 # we can change weight by setting into word score\n",
    "            positionCount += 1\n",
    "            endCount -= 1\n",
    "        endCount += 1\n",
    "        if scoreCount >= scores[0]['score'] and wordCount >= 512 and scoreCount > 0:\n",
    "            scores.insert(0, {'pos': positionCount, 'len': wordCount, 'end': endCount, 'score': scoreCount})\n",
    "    return scores"
   ]
  },
  {
   "cell_type": "code",
   "execution_count": null,
   "id": "5abd738a-b7ea-497a-b613-99860bb3f20a",
   "metadata": {},
   "outputs": [],
   "source": [
    "scores = [{'pos': 0, 'len': 0, 'end': 0, 'score':0}]\n",
    "matchWordList = ['ロゴス', 'た']\n",
    "wordCount = 0\n",
    "scoreCount = 0\n",
    "positionCount = 0\n",
    "i = 0\n",
    "while i < (len(sep)):\n",
    "    if wordCount < 512:\n",
    "        wordCount += len(sep[i])\n",
    "        \n",
    "        if sep[i] in matchWordList:\n",
    "            scoreCount += 1\n",
    "            print('<512 + ', sep[i])\n",
    "        \n",
    "    elif wordCount == 512:\n",
    "        wordCount -= len(sep[positionCount])\n",
    "        wordCount += len(sep[i])\n",
    "        \n",
    "        if sep[positionCount] in matchWordList:\n",
    "            scoreCount -= 1\n",
    "            print('=512 - ', sep[positionCount])\n",
    "            \n",
    "        if sep[i] in matchWordList:\n",
    "            scoreCount += 1\n",
    "            print('=512 + ', sep[i])\n",
    "        \n",
    "        positionCount += 1\n",
    "        \n",
    "    elif wordCount > 512:\n",
    "        wordCount -= len(sep[positionCount])\n",
    "        \n",
    "        if sep[positionCount] in matchWordList:\n",
    "            scoreCount -= 1\n",
    "            print('>512 - ', sep[positionCount])\n",
    "        \n",
    "        positionCount += 1\n",
    "        i -= 1\n",
    "    i += 1     \n",
    "    if scoreCount >= scores[0]['score'] and wordCount > 500:\n",
    "        scores.insert(0, {'pos': positionCount, 'len': wordCount, 'end': i, 'score': scoreCount})\n",
    "    #print(f'pos: {positionCount}  len: {wordCount}, score: {scoreCount}')\n",
    "\"\"\"\n",
    "for word in sep:\n",
    "    if wordCount < 512:\n",
    "        if word in matchWordList:\n",
    "            scoreCount += 1\n",
    "        wordCount += len(word)\n",
    "        #print(word)\n",
    "        #print('512 line -----')\n",
    "    else:\n",
    "        #print(sep[positionCount])  対となる\n",
    "        #print(word)\n",
    "        wordCount -= len(sep[positionCount])\n",
    "        wordCount += len(word)\n",
    "        if sep[positionCount] in matchWordList:\n",
    "            scoreCount -= 1\n",
    "        if word in matchWordList:\n",
    "            scoreCount += 1\n",
    "        positionCount += 1\n",
    "    if scoreCount >= scores[0]['score']:\n",
    "        scores.insert(0, {'pos': positionCount, 'score': scoreCount})\n",
    "    print(f'pos: {positionCount}  len: {wordCount}, score: {scoreCount}')\n",
    "\"\"\"\n",
    "print(scores)\n"
   ]
  },
  {
   "cell_type": "code",
   "execution_count": null,
   "id": "f69c0fce-8820-496e-8820-fd59a604aa85",
   "metadata": {},
   "outputs": [],
   "source": [
    "print(len(''.join(sep[39:365])))"
   ]
  },
  {
   "cell_type": "code",
   "execution_count": null,
   "id": "d7914535-e9e1-4277-95cb-ef26db23f27c",
   "metadata": {},
   "outputs": [],
   "source": [
    "print(getPositionScore(['ロゴス', 'た'], work))"
   ]
  },
  {
   "cell_type": "code",
   "execution_count": null,
   "id": "46c5b189-a270-4f25-b09e-13c3282a9fd1",
   "metadata": {},
   "outputs": [],
   "source": [
    "simList = wf.load_tsv_similarity(f'{SIM_PATH}/total_avg.tsv')\n",
    "print(simList[:10])"
   ]
  },
  {
   "cell_type": "code",
   "execution_count": null,
   "id": "ebb543db-f633-411b-a207-def7dcfdf503",
   "metadata": {},
   "outputs": [],
   "source": [
    "simKList = [word['word'] for word in simList][:10]\n",
    "print(simKList)"
   ]
  },
  {
   "cell_type": "code",
   "execution_count": null,
   "id": "e94b77f9-426d-46a5-922a-0b185fb50968",
   "metadata": {},
   "outputs": [],
   "source": [
    "for work in works[:5]:\n",
    "    score = getPositionScore(simKList, work)[0]\n",
    "    if score['score'] >= 10:\n",
    "        print(score)\n",
    "        content = work['content']\n",
    "        content = content.replace('\\n', '')\n",
    "        sep = re.split(\" \", content)\n",
    "        print(work['label'])\n",
    "        #print(' '.join(sep[score['pos']:score['end']]))\n",
    "        print('--------------------')"
   ]
  },
  {
   "cell_type": "code",
   "execution_count": null,
   "id": "3137fc58-5eba-4802-95d6-f7986560e084",
   "metadata": {},
   "outputs": [],
   "source": [
    "def savePositionScoreTSV(works, simKList, savePath):\n",
    "    results = []\n",
    "    for work in tqdm(works[:10]): # TEST\n",
    "        print(work['label'])\n",
    "        if work['label'] == 0:\n",
    "            label = '01'\n",
    "        else:\n",
    "            label = '10'\n",
    "            \n",
    "        content = work['content']\n",
    "        content = content.replace('\\n', '')\n",
    "        sep = re.split(\" \", content)\n",
    "    \n",
    "        score = getPositionScore(simKList, sep)[0]\n",
    "        \n",
    "        if score['score'] > 0:\n",
    "            paragraph = ' '.join(sep[score['pos']:score['end']])\n",
    "        else:\n",
    "            paragraph = content[:512]\n",
    "        result = {'label': label, 'content': paragraph, 'score': score}\n",
    "        print(result)\n",
    "        results.append(result)\n",
    "    \n",
    "    with open(savePath, 'w+', encoding='utf-8') as f:\n",
    "        writer = csv.writer(f, delimiter='\\t')\n",
    "        for result in results:\n",
    "            writer.writerow([result['label'], result['content']])\n",
    "    \n",
    "    with open(f'{savePath}_status.tsv', 'a+', encoding='utf-8') as f2:\n",
    "        writer = csv.writer(f2, delimiter='\\t')\n",
    "        for result in results:\n",
    "            writer.writerow([result['score']])\n",
    "            "
   ]
  },
  {
   "cell_type": "code",
   "execution_count": null,
   "id": "6826ab51-3149-456d-894a-a43ac2c2919a",
   "metadata": {},
   "outputs": [],
   "source": [
    "def nearestK(target, kSize):\n",
    "    SIM_PATH = f'./morpheme/similarity/{target}'\n",
    "    WORK_PATH = f'./tsv/morpheme/{target}'\n",
    "    SAVE_PATH = f'./tsv/nearest-k/k-{kSize}/{target}'\n",
    "\n",
    "    trains = wf.load_tsv_dataset(f'{WORK_PATH}/train.tsv')\n",
    "    tests = wf.load_tsv_dataset(f'{WORK_PATH}/test.tsv')\n",
    "    devs = wf.load_tsv_dataset(f'{WORK_PATH}/dev.tsv')\n",
    "    \n",
    "    simList = wf.load_tsv_similarity(f'{SIM_PATH}/total_avg.tsv')\n",
    "    simKList = [word['word'] for word in simList][:kSize]\n",
    "    \n",
    "    os.makedirs(SAVE_PATH, exist_ok=True)\n",
    "    savePositionScoreTSV(trains, simKList, f'{SAVE_PATH}/train.tsv')\n",
    "    savePositionScoreTSV(tests, simKList, f'{SAVE_PATH}/test.tsv')\n",
    "    savePositionScoreTSV(devs, simKList, f'{SAVE_PATH}/dev.tsv')"
   ]
  },
  {
   "cell_type": "code",
   "execution_count": null,
   "id": "5c4b4ed0-676d-414d-ad4f-0acc0c0e98d2",
   "metadata": {},
   "outputs": [],
   "source": [
    "nearestK(42, 10)"
   ]
  },
  {
   "cell_type": "code",
   "execution_count": null,
   "id": "8242977b-9cc7-4a3d-82f2-60eb0d5d3636",
   "metadata": {},
   "outputs": [],
   "source": [
    "TARGET = 42\n",
    "SIM_PATH = f'./morpheme/similarity/{TARGET}'\n",
    "PATH = f'./tsv/morpheme/{TARGET}'\n",
    "\n",
    "works = wf.load_tsv_dataset(f'{PATH}/test.tsv')"
   ]
  },
  {
   "cell_type": "code",
   "execution_count": null,
   "id": "8c0d2aa6-f631-4eb9-b314-89d000679518",
   "metadata": {},
   "outputs": [],
   "source": [
    "work = works[3]\n",
    "content = work['content']\n",
    "content = content.replace('\\n', '')\n",
    "sep = re.split(\" \", content)\n",
    "#print(sep)\n",
    "simList = wf.load_tsv_similarity(f'{SIM_PATH}/total_avg.tsv')\n",
    "simKList = [word['word'] for word in simList][:100]\n",
    "print(simKList)\n",
    "scores = getPositionScore(simKList, sep)"
   ]
  },
  {
   "cell_type": "code",
   "execution_count": null,
   "id": "2245e339-6b09-49f3-8cbe-6765f1d85c46",
   "metadata": {},
   "outputs": [],
   "source": [
    "candidates = [scores[0]]\n",
    "#highScore = scores[0]['score']\n",
    "for score in scores:\n",
    "    #print(f'{score}\\n{candidates[0]}\\n------------')\n",
    "    if score['end'] < candidates[0]['pos'] and score['score'] >= 0:\n",
    "        candidates.insert(0, score)\n",
    "        \n",
    "if candidates[0]['score'] == 0:\n",
    "    candidates.pop(0)\n",
    "\n",
    "candidateList = []\n",
    "if len(candidates)!= 0:\n",
    "    for candidate in candidates:\n",
    "        print(candidate)\n",
    "        candidateList.append(' '.join(sep[candidate['pos']:candidate['end']]))\n",
    "else:\n",
    "    candidateList.append(content[:512])\n",
    "    \n",
    "for l in candidateList:\n",
    "    print(l)"
   ]
  },
  {
   "cell_type": "code",
   "execution_count": null,
   "id": "df9d20ed-f863-453b-b1c9-450d8d9ab081",
   "metadata": {},
   "outputs": [],
   "source": [
    "def getNearestKCandidates(works, simKList, savePath):\n",
    "    for i, work in enumerate(works[:10]):\n",
    "        content = work['content']\n",
    "        content = content.replace('\\n', '')\n",
    "        sep = re.split(\" \", content)\n",
    "        scores = getPositionScore(simKList, sep)\n",
    "        \n",
    "        candidates = [scores[0]]\n",
    "        for score in scores:\n",
    "            if score['end'] < candidates[0]['pos'] and score['score'] >= 0:\n",
    "                candidates.insert(0, score)\n",
    "        \n",
    "        if candidates[0]['score'] == 0:\n",
    "            candidates.pop(0)\n",
    "\n",
    "        candidateList = []\n",
    "        if len(candidates)!= 0:\n",
    "            for candidate in candidates:\n",
    "                print(candidate)\n",
    "                candidateList.append({\n",
    "                    'pos': candidate['pos'],\n",
    "                    'len': candidate['len'],\n",
    "                    'end': candidate['end'],\n",
    "                    'score': candidate['score'],\n",
    "                    'content': ' '.join(sep[candidate['pos']:candidate['end']])\n",
    "                })\n",
    "        else:\n",
    "            candidateList.append({\n",
    "                'pos': 0,\n",
    "                'len': 512,\n",
    "                'end': 512,\n",
    "                'score': 0,\n",
    "                'content': content[:512]\n",
    "            })\n",
    "        \n",
    "        if work['label'] == 0:\n",
    "            label = '01'\n",
    "        else:\n",
    "            label = '10'\n",
    "        \n",
    "        writeTarget = {\n",
    "            'label': label,\n",
    "            'status': candidateList[slice(None, None, -1)]\n",
    "        }\n",
    "    \n",
    "        with open(f'{savePath}/{i}.json', 'w+', encoding='utf-8') as f:\n",
    "            json.dump(writeTarget, f)"
   ]
  },
  {
   "cell_type": "code",
   "execution_count": null,
   "id": "6e34abf8-a38c-49c8-970b-ca7f58048ccb",
   "metadata": {},
   "outputs": [],
   "source": [
    "target = 42\n",
    "kSize = 100\n",
    "\n",
    "SIM_PATH = f'./morpheme/similarity/{target}'\n",
    "WORK_PATH = f'./tsv/morpheme/{target}'\n",
    "SAVE_PATH = f'./tsv/n-test/n-{kSize}/{target}'\n",
    "\n",
    "#trains = wf.load_tsv_dataset(f'{WORK_PATH}/train.tsv')\n",
    "tests = wf.load_tsv_dataset(f'{WORK_PATH}/test.tsv')\n",
    "#devs = wf.load_tsv_dataset(f'{WORK_PATH}/dev.tsv')\n",
    "\n",
    "simList = wf.load_tsv_similarity(f'{SIM_PATH}/total_avg.tsv')\n",
    "simKList = [word['word'] for word in simList][:kSize]\n",
    "\n",
    "os.makedirs(f'{SAVE_PATH}/test', exist_ok=True)\n",
    "#getNearestKCandidates(trains, simKList, f'{SAVE_PATH}/train.tsv')\n",
    "getNearestKCandidates(tests, simKList, f'{SAVE_PATH}/test')\n",
    "#getNearestKCandidates(devs, simKList, f'{SAVE_PATH}/dev.tsv')"
   ]
  },
  {
   "cell_type": "code",
   "execution_count": null,
   "id": "bc99c3ca-8279-4fe8-b750-02138d1db24d",
   "metadata": {},
   "outputs": [],
   "source": []
  }
 ],
 "metadata": {
  "kernelspec": {
   "display_name": "Python 3 (ipykernel)",
   "language": "python",
   "name": "python3"
  },
  "language_info": {
   "codemirror_mode": {
    "name": "ipython",
    "version": 3
   },
   "file_extension": ".py",
   "mimetype": "text/x-python",
   "name": "python",
   "nbconvert_exporter": "python",
   "pygments_lexer": "ipython3",
   "version": "3.9.12"
  }
 },
 "nbformat": 4,
 "nbformat_minor": 5
}
