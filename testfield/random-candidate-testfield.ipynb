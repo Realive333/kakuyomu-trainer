{
 "cells": [
  {
   "cell_type": "code",
   "execution_count": 1,
   "id": "cd476916-f89d-4f18-8ab7-e0da4922c9be",
   "metadata": {},
   "outputs": [],
   "source": [
    "import os\n",
    "import re\n",
    "import csv\n",
    "import sys\n",
    "import json\n",
    "import random\n",
    "import MeCab\n",
    "import workFactory as wf\n",
    "\n",
    "from tqdm import tqdm\n",
    "from argparse import ArgumentParser"
   ]
  },
  {
   "cell_type": "code",
   "execution_count": 2,
   "id": "0cc7274e-3a4a-428a-9c0b-633df674bf3e",
   "metadata": {},
   "outputs": [],
   "source": [
    "csv.field_size_limit(sys.maxsize)\n",
    "target = 42\n",
    "offset = 256\n",
    "cSize = 10\n",
    "\n",
    "workPath = f'../tsv/morpheme/{target}'\n",
    "savePath = f'./tsv/random-candidates/c-{cSize}/o-{offset}/{target}'\n",
    "\n",
    "trains = wf.load_tsv_dataset(f'{workPath}/train.tsv')"
   ]
  },
  {
   "cell_type": "code",
   "execution_count": 135,
   "id": "9454c6c2-b5d2-4a14-8755-d7f610e8de4f",
   "metadata": {},
   "outputs": [],
   "source": [
    "work = trains\n",
    "#print(work)"
   ]
  },
  {
   "cell_type": "code",
   "execution_count": 4,
   "id": "e946082c-852a-44c8-a7b5-4f1cdf598ab6",
   "metadata": {},
   "outputs": [],
   "source": [
    "def getJointListByOffset(content, offset):\n",
    "    content = content.replace(\"\\n\", \"\\n \")\n",
    "    sep = re.split(\" \", content)\n",
    "    sepList = [] \n",
    "    compList = []\n",
    "    for i, word in enumerate(sep):\n",
    "        if sum(len(i) for i in sepList) < offset:\n",
    "            sepList.append(word)\n",
    "            if i == len(sep)-1:\n",
    "                compList.append(\" \".join(sepList))\n",
    "        else:\n",
    "            compList.append(\" \".join(sepList))\n",
    "            sepList.clear()\n",
    "            sepList.append(word)\n",
    "    jointList = []\n",
    "    for i, _ in enumerate(compList):\n",
    "        try:\n",
    "            if offset == 256:\n",
    "                jointList.append(compList[i]+compList[i+1])\n",
    "            elif offset == 512:\n",
    "                jointList.append(compList[i])\n",
    "        except IndexError:\n",
    "            _\n",
    "    return jointList"
   ]
  },
  {
   "cell_type": "code",
   "execution_count": 150,
   "id": "c5081e68-8b4f-45e6-ab43-3608af6cdca2",
   "metadata": {},
   "outputs": [],
   "source": [
    "def getRandOffset(size, content, offset):\n",
    "    targetList = []\n",
    "    jointList = getJointListByOffset(content, offset)\n",
    "    \n",
    "    if len(jointList) < size:\n",
    "        actSize = len(jointList)\n",
    "    else:\n",
    "        actSize = size\n",
    "        \n",
    "    for i in range(actSize):\n",
    "        rnd = random.randint(0, len(jointList)-1)\n",
    "        try:\n",
    "            target = jointList.pop(rnd)\n",
    "            target = target.replace(\"\\n\", \"[SEP]\")\n",
    "            targetList.append(target)\n",
    "        except IndexError:\n",
    "            print(f'rand:{rnd}, size:{actSize}, lsize:{len(jointList)}')\n",
    "    return size, targetList"
   ]
  },
  {
   "cell_type": "code",
   "execution_count": 151,
   "id": "04ac3289-b962-4104-816f-f28a3e3473e6",
   "metadata": {},
   "outputs": [
    {
     "name": "stderr",
     "output_type": "stream",
     "text": [
      " 65%|███████████████████████████████████████████████████▍                           | 1927/2963 [14:03<07:33,  2.29it/s]\n"
     ]
    },
    {
     "ename": "KeyboardInterrupt",
     "evalue": "",
     "output_type": "error",
     "traceback": [
      "\u001b[0;31m---------------------------------------------------------------------------\u001b[0m",
      "\u001b[0;31mKeyboardInterrupt\u001b[0m                         Traceback (most recent call last)",
      "Input \u001b[0;32mIn [151]\u001b[0m, in \u001b[0;36m<cell line: 1>\u001b[0;34m()\u001b[0m\n\u001b[1;32m      1\u001b[0m \u001b[38;5;28;01mfor\u001b[39;00m w \u001b[38;5;129;01min\u001b[39;00m tqdm(work):\n\u001b[0;32m----> 2\u001b[0m     sz, lt \u001b[38;5;241m=\u001b[39m \u001b[43mgetRandOffset\u001b[49m\u001b[43m(\u001b[49m\u001b[43mcSize\u001b[49m\u001b[43m,\u001b[49m\u001b[43m \u001b[49m\u001b[43mw\u001b[49m\u001b[43m[\u001b[49m\u001b[38;5;124;43m'\u001b[39;49m\u001b[38;5;124;43mcontent\u001b[39;49m\u001b[38;5;124;43m'\u001b[39;49m\u001b[43m]\u001b[49m\u001b[43m,\u001b[49m\u001b[43m \u001b[49m\u001b[43moffset\u001b[49m\u001b[43m)\u001b[49m\n\u001b[1;32m      3\u001b[0m     \u001b[38;5;28;01mif\u001b[39;00m sz \u001b[38;5;241m<\u001b[39m cSize:\n\u001b[1;32m      4\u001b[0m         \u001b[38;5;28mprint\u001b[39m(sz)\n",
      "Input \u001b[0;32mIn [150]\u001b[0m, in \u001b[0;36mgetRandOffset\u001b[0;34m(size, content, offset)\u001b[0m\n\u001b[1;32m      1\u001b[0m \u001b[38;5;28;01mdef\u001b[39;00m \u001b[38;5;21mgetRandOffset\u001b[39m(size, content, offset):\n\u001b[1;32m      2\u001b[0m     targetList \u001b[38;5;241m=\u001b[39m []\n\u001b[0;32m----> 3\u001b[0m     jointList \u001b[38;5;241m=\u001b[39m \u001b[43mgetJointListByOffset\u001b[49m\u001b[43m(\u001b[49m\u001b[43mcontent\u001b[49m\u001b[43m,\u001b[49m\u001b[43m \u001b[49m\u001b[43moffset\u001b[49m\u001b[43m)\u001b[49m\n\u001b[1;32m      5\u001b[0m     \u001b[38;5;28;01mif\u001b[39;00m \u001b[38;5;28mlen\u001b[39m(jointList) \u001b[38;5;241m<\u001b[39m size:\n\u001b[1;32m      6\u001b[0m         actSize \u001b[38;5;241m=\u001b[39m \u001b[38;5;28mlen\u001b[39m(jointList)\n",
      "Input \u001b[0;32mIn [4]\u001b[0m, in \u001b[0;36mgetJointListByOffset\u001b[0;34m(content, offset)\u001b[0m\n\u001b[1;32m      5\u001b[0m compList \u001b[38;5;241m=\u001b[39m []\n\u001b[1;32m      6\u001b[0m \u001b[38;5;28;01mfor\u001b[39;00m i, word \u001b[38;5;129;01min\u001b[39;00m \u001b[38;5;28menumerate\u001b[39m(sep):\n\u001b[0;32m----> 7\u001b[0m     \u001b[38;5;28;01mif\u001b[39;00m \u001b[38;5;28;43msum\u001b[39;49m\u001b[43m(\u001b[49m\u001b[38;5;28;43mlen\u001b[39;49m\u001b[43m(\u001b[49m\u001b[43mi\u001b[49m\u001b[43m)\u001b[49m\u001b[43m \u001b[49m\u001b[38;5;28;43;01mfor\u001b[39;49;00m\u001b[43m \u001b[49m\u001b[43mi\u001b[49m\u001b[43m \u001b[49m\u001b[38;5;129;43;01min\u001b[39;49;00m\u001b[43m \u001b[49m\u001b[43msepList\u001b[49m\u001b[43m)\u001b[49m \u001b[38;5;241m<\u001b[39m offset:\n\u001b[1;32m      8\u001b[0m         sepList\u001b[38;5;241m.\u001b[39mappend(word)\n\u001b[1;32m      9\u001b[0m         \u001b[38;5;28;01mif\u001b[39;00m i \u001b[38;5;241m==\u001b[39m \u001b[38;5;28mlen\u001b[39m(sep)\u001b[38;5;241m-\u001b[39m\u001b[38;5;241m1\u001b[39m:\n",
      "Input \u001b[0;32mIn [4]\u001b[0m, in \u001b[0;36m<genexpr>\u001b[0;34m(.0)\u001b[0m\n\u001b[1;32m      5\u001b[0m compList \u001b[38;5;241m=\u001b[39m []\n\u001b[1;32m      6\u001b[0m \u001b[38;5;28;01mfor\u001b[39;00m i, word \u001b[38;5;129;01min\u001b[39;00m \u001b[38;5;28menumerate\u001b[39m(sep):\n\u001b[0;32m----> 7\u001b[0m     \u001b[38;5;28;01mif\u001b[39;00m \u001b[38;5;28msum\u001b[39m(\u001b[38;5;28mlen\u001b[39m(i) \u001b[38;5;28;01mfor\u001b[39;00m i \u001b[38;5;129;01min\u001b[39;00m sepList) \u001b[38;5;241m<\u001b[39m offset:\n\u001b[1;32m      8\u001b[0m         sepList\u001b[38;5;241m.\u001b[39mappend(word)\n\u001b[1;32m      9\u001b[0m         \u001b[38;5;28;01mif\u001b[39;00m i \u001b[38;5;241m==\u001b[39m \u001b[38;5;28mlen\u001b[39m(sep)\u001b[38;5;241m-\u001b[39m\u001b[38;5;241m1\u001b[39m:\n",
      "\u001b[0;31mKeyboardInterrupt\u001b[0m: "
     ]
    }
   ],
   "source": [
    "for w in tqdm(work):\n",
    "    sz, lt = getRandOffset(cSize, w['content'], offset)\n",
    "    if sz < cSize:\n",
    "        print(sz)"
   ]
  },
  {
   "cell_type": "code",
   "execution_count": null,
   "id": "15800683-7bb7-42df-a1a6-b7fd00a3ab74",
   "metadata": {},
   "outputs": [],
   "source": []
  },
  {
   "cell_type": "code",
   "execution_count": null,
   "id": "2a1edf6b-d486-47c3-8ba1-4f76bcac25d2",
   "metadata": {},
   "outputs": [],
   "source": []
  }
 ],
 "metadata": {
  "kernelspec": {
   "display_name": "Python 3 (ipykernel)",
   "language": "python",
   "name": "python3"
  },
  "language_info": {
   "codemirror_mode": {
    "name": "ipython",
    "version": 3
   },
   "file_extension": ".py",
   "mimetype": "text/x-python",
   "name": "python",
   "nbconvert_exporter": "python",
   "pygments_lexer": "ipython3",
   "version": "3.9.12"
  }
 },
 "nbformat": 4,
 "nbformat_minor": 5
}
